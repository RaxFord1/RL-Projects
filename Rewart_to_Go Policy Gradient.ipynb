{
 "cells": [
  {
   "cell_type": "code",
   "execution_count": 1,
   "metadata": {},
   "outputs": [],
   "source": [
    "import gym\n",
    "import tensorflow as tf\n",
    "import numpy as np"
   ]
  },
  {
   "cell_type": "code",
   "execution_count": 2,
   "metadata": {},
   "outputs": [],
   "source": [
    "env = gym.make(\"CartPole-v0\")"
   ]
  },
  {
   "cell_type": "code",
   "execution_count": 3,
   "metadata": {},
   "outputs": [
    {
     "name": "stdout",
     "output_type": "stream",
     "text": [
      "obs = 4, n_acts = 2\n"
     ]
    }
   ],
   "source": [
    "obs_dim = env.observation_space.shape[0]\n",
    "n_acts = env.action_space.n\n",
    "print(\"obs = {}, n_acts = {}\".format(obs_dim, n_acts))"
   ]
  },
  {
   "cell_type": "code",
   "execution_count": 4,
   "metadata": {
    "scrolled": true
   },
   "outputs": [
    {
     "data": {
      "text/plain": [
       "array([ 0.02855869, -0.03398716, -0.01294668, -0.04741072])"
      ]
     },
     "execution_count": 4,
     "metadata": {},
     "output_type": "execute_result"
    }
   ],
   "source": [
    "obs = env.reset()\n",
    "obs"
   ]
  },
  {
   "cell_type": "code",
   "execution_count": 5,
   "metadata": {},
   "outputs": [],
   "source": [
    "def mpl(x, sizes, activation = tf.tanh, output_activation=None):\n",
    "\n",
    "    for size in sizes:\n",
    "        x = tf.layers.dense(x,units = size, activation = activation)\n",
    "    \n",
    "    return tf.layers.dense(x, units = sizes[-1], activation = output_activation)\n"
   ]
  },
  {
   "cell_type": "code",
   "execution_count": 6,
   "metadata": {},
   "outputs": [
    {
     "name": "stdout",
     "output_type": "stream",
     "text": [
      "WARNING:tensorflow:From <ipython-input-5-e62237961afe>:4: dense (from tensorflow.python.layers.core) is deprecated and will be removed in a future version.\n",
      "Instructions for updating:\n",
      "Use keras.layers.dense instead.\n",
      "WARNING:tensorflow:From /home/raxford/anaconda3/lib/python3.7/site-packages/tensorflow/python/ops/init_ops.py:1251: calling VarianceScaling.__init__ (from tensorflow.python.ops.init_ops) with dtype is deprecated and will be removed in a future version.\n",
      "Instructions for updating:\n",
      "Call initializer instance with the dtype argument instead of passing it to the constructor\n"
     ]
    }
   ],
   "source": [
    "#first layer of NN\n",
    "obs_ph = tf.placeholder(shape=(None, obs_dim), dtype=tf.float32)\n",
    "#creating NN\n",
    "logit = mpl(obs_ph, sizes = [32,64]+[n_acts])\n",
    "#array([[0.01685937, 0.00622761]], dtype=float32)"
   ]
  },
  {
   "cell_type": "code",
   "execution_count": 7,
   "metadata": {},
   "outputs": [
    {
     "name": "stdout",
     "output_type": "stream",
     "text": [
      "WARNING:tensorflow:From <ipython-input-7-c7ed40647be8>:1: multinomial (from tensorflow.python.ops.random_ops) is deprecated and will be removed in a future version.\n",
      "Instructions for updating:\n",
      "Use `tf.random.categorical` instead.\n"
     ]
    }
   ],
   "source": [
    "max_action = tf.multinomial(logits=logit,num_samples=1)\n",
    "#array([[0]])\n",
    "action = tf.squeeze(max_action, axis=1)\n",
    "#array([0])"
   ]
  },
  {
   "cell_type": "code",
   "execution_count": 8,
   "metadata": {},
   "outputs": [],
   "source": [
    "#loss\n",
    "weights_ph = tf.placeholder(shape=(None,), dtype = tf.float32)\n",
    "act_ph = tf.placeholder(shape=(None,), dtype = tf.int32)\n",
    "#one_hot taken actions\n",
    "action_masks = tf.one_hot(act_ph, n_acts)\n",
    "#array([[0., 1.]...], dtype=float32)\n",
    "\n",
    "#logprob(a|s)\n",
    "log_probs = tf.reduce_sum(action_masks * tf.nn.log_softmax(logit), axis=1)\n",
    "#array([-0.6952652,...], dtype=float32)\n",
    "loss = -tf.reduce_mean(weights_ph* log_probs)\n",
    "#9.812662"
   ]
  },
  {
   "cell_type": "code",
   "execution_count": 9,
   "metadata": {},
   "outputs": [],
   "source": [
    "#optimizer\n",
    "train_op = tf.train.AdamOptimizer(learning_rate = 0.01).minimize(loss)\n",
    "#loss minimizes :D"
   ]
  },
  {
   "cell_type": "code",
   "execution_count": 10,
   "metadata": {},
   "outputs": [],
   "source": [
    "#variables for initializing and using\n",
    "sess = tf.InteractiveSession()\n",
    "sess.run(tf.global_variables_initializer())"
   ]
  },
  {
   "cell_type": "code",
   "execution_count": 11,
   "metadata": {},
   "outputs": [],
   "source": [
    "max_action = sess.run(action, {obs_ph: obs.reshape(1,-1)})[0]\n",
    "#get element from array 0 or 1"
   ]
  },
  {
   "cell_type": "code",
   "execution_count": 12,
   "metadata": {},
   "outputs": [],
   "source": [
    "def reward_to_go(rews):\n",
    "    n = len(rews)\n",
    "    rtgs = np.zeros_like(rews)\n",
    "    for i in reversed(range(n)):\n",
    "        rtgs[i] = rews[i] + (rtgs[i+1] if i+1 < n else 0)\n",
    "    #returns [200. 199. ... 1.]\n",
    "    return rtgs"
   ]
  },
  {
   "cell_type": "code",
   "execution_count": 13,
   "metadata": {},
   "outputs": [],
   "source": [
    "def train_one_epoch(batch_size = 5000):\n",
    "    \n",
    "    batch_obs = []\n",
    "    batch_acts = []\n",
    "    batch_rets = []\n",
    "    batch_lens = []\n",
    "    batch_weights = [] #[[200.0, 199.0, ... 1.0, 200.0, ... 1.0]\n",
    "    obs = env.reset()\n",
    "    done = False\n",
    "    ep_rews = []\n",
    "    rendering_epoch = True\n",
    "    \n",
    "    while True:\n",
    "        \n",
    "        if rendering_epoch == True:\n",
    "            pass\n",
    "            #env.render() \n",
    "        batch_obs.append(obs.copy())\n",
    "        \n",
    "        act = sess.run(action, {obs_ph: obs.reshape(1,-1)})[0]\n",
    "        \n",
    "        obs, reward, done, _ = env.step(act)\n",
    "        \n",
    "        batch_acts.append(act)\n",
    "        ep_rews.append(reward)\n",
    "        \n",
    "        if done:\n",
    "            rendering_epoch = False\n",
    "            #recording everything!\n",
    "            ep_ret, ep_len = sum(ep_rews), len(ep_rews)\n",
    "            \n",
    "            batch_rets.append(ep_ret)\n",
    "            batch_lens.append(ep_len)\n",
    "            \n",
    "            # the weight for each logprob(a_t|s_t) is reward-to-go from t\n",
    "            batch_weights += list(reward_to_go(ep_rews))\n",
    "            \n",
    "            #reset vatiables\n",
    "            obs, done, ep_rews = env.reset(), False, []\n",
    "            \n",
    "            if len(batch_obs)>batch_size:\n",
    "                break\n",
    "    \n",
    "    if np.mean(batch_lens)<200:\n",
    "        batch_loss, _ = sess.run([loss, train_op], {obs_ph: batch_obs,\n",
    "                                             act_ph: batch_acts,\n",
    "                                             weights_ph: batch_weights})\n",
    "    else:\n",
    "        batch_loss = 0\n",
    "    \n",
    "    return batch_loss, batch_rets, batch_lens"
   ]
  },
  {
   "cell_type": "code",
   "execution_count": 14,
   "metadata": {},
   "outputs": [
    {
     "name": "stdout",
     "output_type": "stream",
     "text": [
      "#0, batch_loss: 6.331, batch_rets: 15.075, batch_lens: 15.075\n",
      "#1, batch_loss: 11.537, batch_rets: 26.781, batch_lens: 26.781\n",
      "#2, batch_loss: 18.510, batch_rets: 46.229, batch_lens: 46.229\n",
      "#3, batch_loss: 21.252, batch_rets: 57.563, batch_lens: 57.563\n",
      "#4, batch_loss: 25.043, batch_rets: 68.320, batch_lens: 68.320\n",
      "#5, batch_loss: 35.136, batch_rets: 106.562, batch_lens: 106.562\n",
      "#6, batch_loss: 38.062, batch_rets: 132.737, batch_lens: 132.737\n",
      "#7, batch_loss: 37.735, batch_rets: 129.923, batch_lens: 129.923\n",
      "#8, batch_loss: 41.063, batch_rets: 153.121, batch_lens: 153.121\n",
      "#9, batch_loss: 41.560, batch_rets: 157.344, batch_lens: 157.344\n",
      "#10, batch_loss: 44.940, batch_rets: 169.233, batch_lens: 169.233\n",
      "#11, batch_loss: 46.130, batch_rets: 178.483, batch_lens: 178.483\n",
      "#12, batch_loss: 44.515, batch_rets: 189.037, batch_lens: 189.037\n",
      "#13, batch_loss: 46.496, batch_rets: 197.462, batch_lens: 197.462\n",
      "#14, batch_loss: 46.114, batch_rets: 197.538, batch_lens: 197.538\n",
      "#15, batch_loss: 45.387, batch_rets: 196.846, batch_lens: 196.846\n",
      "#16, batch_loss: 0.000, batch_rets: 200.000, batch_lens: 200.000\n"
     ]
    }
   ],
   "source": [
    "for i in range(500):\n",
    "    batch_loss, batch_rets, batch_lens = train_one_epoch()\n",
    "    print(\"#%i, batch_loss: %.3f, batch_rets: %.3f, batch_lens: %.3f\" \\\n",
    "          %(i, batch_loss, np.mean(batch_rets), np.mean(batch_lens)))\n",
    "    if batch_loss == 0:\n",
    "        break\n"
   ]
  },
  {
   "cell_type": "code",
   "execution_count": 15,
   "metadata": {},
   "outputs": [],
   "source": [
    "def play_episode():\n",
    "    \n",
    "    rewards = 0\n",
    "    obs = env.reset()\n",
    "    while True:\n",
    "        env.render()\n",
    "        act = sess.run(action, {obs_ph: obs.reshape(1,-1)})[0]\n",
    "        obs, reward, is_done, _ = env.step(act)\n",
    "        rewards += reward\n",
    "        if is_done or rewards >200:\n",
    "            break\n",
    "    return rewards    "
   ]
  },
  {
   "cell_type": "code",
   "execution_count": 16,
   "metadata": {
    "scrolled": true
   },
   "outputs": [
    {
     "name": "stdout",
     "output_type": "stream",
     "text": [
      "200.0\n"
     ]
    }
   ],
   "source": [
    "print(play_episode())"
   ]
  },
  {
   "cell_type": "code",
   "execution_count": 17,
   "metadata": {},
   "outputs": [],
   "source": [
    "env.close()"
   ]
  },
  {
   "cell_type": "code",
   "execution_count": null,
   "metadata": {},
   "outputs": [],
   "source": []
  },
  {
   "cell_type": "code",
   "execution_count": null,
   "metadata": {},
   "outputs": [],
   "source": []
  },
  {
   "cell_type": "code",
   "execution_count": null,
   "metadata": {},
   "outputs": [],
   "source": []
  }
 ],
 "metadata": {
  "kernelspec": {
   "display_name": "Python 3",
   "language": "python",
   "name": "python3"
  },
  "language_info": {
   "codemirror_mode": {
    "name": "ipython",
    "version": 3
   },
   "file_extension": ".py",
   "mimetype": "text/x-python",
   "name": "python",
   "nbconvert_exporter": "python",
   "pygments_lexer": "ipython3",
   "version": "3.7.3"
  }
 },
 "nbformat": 4,
 "nbformat_minor": 2
}
