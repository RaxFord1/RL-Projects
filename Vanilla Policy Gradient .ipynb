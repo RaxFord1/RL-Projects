{
 "cells": [
  {
   "cell_type": "code",
   "execution_count": 1,
   "metadata": {},
   "outputs": [],
   "source": [
    "import gym\n",
    "import os\n",
    "os.environ['TF_CPP_MIN_LOG_LEVEL'] = '3' \n",
    "import tensorflow as tf\n",
    "import numpy as np"
   ]
  },
  {
   "cell_type": "code",
   "execution_count": 2,
   "metadata": {},
   "outputs": [],
   "source": [
    "env = gym.make(\"CartPole-v0\")"
   ]
  },
  {
   "cell_type": "code",
   "execution_count": 3,
   "metadata": {},
   "outputs": [
    {
     "name": "stdout",
     "output_type": "stream",
     "text": [
      "obs = 4, n_acts = 2\n"
     ]
    }
   ],
   "source": [
    "obs_dim = env.observation_space.shape[0]\n",
    "n_acts = env.action_space.n\n",
    "print(\"obs = {}, n_acts = {}\".format(obs_dim, n_acts))"
   ]
  },
  {
   "cell_type": "code",
   "execution_count": 4,
   "metadata": {},
   "outputs": [
    {
     "data": {
      "text/plain": [
       "array([ 0.02363651,  0.02326473, -0.04545016, -0.01668425])"
      ]
     },
     "execution_count": 4,
     "metadata": {},
     "output_type": "execute_result"
    }
   ],
   "source": [
    "obs = env.reset()\n",
    "obs"
   ]
  },
  {
   "cell_type": "code",
   "execution_count": 5,
   "metadata": {},
   "outputs": [],
   "source": [
    "def mpl(x, sizes, activation = tf.tanh, output_activation=None):\n",
    "\n",
    "    for size in sizes:\n",
    "        x = tf.layers.dense(x,units = size, activation = activation)\n",
    "    \n",
    "    return tf.layers.dense(x, units = sizes[-1], activation = output_activation)\n"
   ]
  },
  {
   "cell_type": "code",
   "execution_count": 6,
   "metadata": {},
   "outputs": [
    {
     "name": "stdout",
     "output_type": "stream",
     "text": [
      "WARNING:tensorflow:From <ipython-input-5-e62237961afe>:4: dense (from tensorflow.python.layers.core) is deprecated and will be removed in a future version.\n",
      "Instructions for updating:\n",
      "Use keras.layers.dense instead.\n",
      "WARNING:tensorflow:From /home/raxford/anaconda3/lib/python3.7/site-packages/tensorflow/python/ops/init_ops.py:1251: calling VarianceScaling.__init__ (from tensorflow.python.ops.init_ops) with dtype is deprecated and will be removed in a future version.\n",
      "Instructions for updating:\n",
      "Call initializer instance with the dtype argument instead of passing it to the constructor\n"
     ]
    }
   ],
   "source": [
    "#first layer of NN\n",
    "obs_ph = tf.placeholder(shape=(None, obs_dim), dtype=tf.float32)\n",
    "#creating NN\n",
    "logit = mpl(obs_ph, sizes = [32,64]+[n_acts])\n",
    "#array([[0.01685937, 0.00622761]], dtype=float32)"
   ]
  },
  {
   "cell_type": "code",
   "execution_count": 7,
   "metadata": {},
   "outputs": [
    {
     "name": "stdout",
     "output_type": "stream",
     "text": [
      "WARNING:tensorflow:From <ipython-input-7-c7ed40647be8>:1: multinomial (from tensorflow.python.ops.random_ops) is deprecated and will be removed in a future version.\n",
      "Instructions for updating:\n",
      "Use `tf.random.categorical` instead.\n"
     ]
    }
   ],
   "source": [
    "max_action = tf.multinomial(logits=logit,num_samples=1)\n",
    "#array([[0]])\n",
    "action = tf.squeeze(max_action, axis=1)\n",
    "#array([0])"
   ]
  },
  {
   "cell_type": "code",
   "execution_count": 8,
   "metadata": {},
   "outputs": [],
   "source": [
    "#loss\n",
    "weights_ph = tf.placeholder(shape=(None,), dtype = tf.float32)\n",
    "act_ph = tf.placeholder(shape=(None,), dtype = tf.int32)\n",
    "#one_hot taken actions\n",
    "action_masks = tf.one_hot(act_ph, n_acts)\n",
    "#array([[0., 1.]...], dtype=float32)\n",
    "\n",
    "#logprob(a|s)\n",
    "log_probs = tf.reduce_sum(action_masks * tf.nn.log_softmax(logit), axis=1)\n",
    "#array([-0.6952652,...], dtype=float32)\n",
    "loss = -tf.reduce_mean(weights_ph* log_probs)\n",
    "#9.812662"
   ]
  },
  {
   "cell_type": "code",
   "execution_count": 9,
   "metadata": {},
   "outputs": [],
   "source": [
    "#optimizer\n",
    "train_op = tf.train.AdamOptimizer(learning_rate = 0.01).minimize(loss)\n",
    "#loss minimizes :D"
   ]
  },
  {
   "cell_type": "code",
   "execution_count": 10,
   "metadata": {},
   "outputs": [],
   "source": [
    "#variables for initializing and using\n",
    "sess = tf.InteractiveSession()\n",
    "sess.run(tf.global_variables_initializer())"
   ]
  },
  {
   "cell_type": "code",
   "execution_count": 11,
   "metadata": {},
   "outputs": [],
   "source": [
    "max_action = sess.run(action, {obs_ph: obs.reshape(1,-1)})[0]\n",
    "#get element from array 0 or 1"
   ]
  },
  {
   "cell_type": "code",
   "execution_count": null,
   "metadata": {},
   "outputs": [],
   "source": []
  },
  {
   "cell_type": "code",
   "execution_count": 12,
   "metadata": {},
   "outputs": [],
   "source": [
    "def train_one_epoch(batch_size = 5000):\n",
    "    \n",
    "    batch_obs = []\n",
    "    batch_acts = []\n",
    "    batch_rets = []\n",
    "    batch_lens = []\n",
    "    batch_weights = []\n",
    "    obs = env.reset()\n",
    "    done = False\n",
    "    ep_rews = []\n",
    "    rendering_epoch = True\n",
    "    \n",
    "    while True:\n",
    "        \n",
    "        if rendering_epoch == True:\n",
    "            pass\n",
    "            #env.render() \n",
    "        batch_obs.append(obs.copy())\n",
    "        \n",
    "        act = sess.run(action, {obs_ph: obs.reshape(1,-1)})[0]\n",
    "        \n",
    "        obs, reward, done, _ = env.step(act)\n",
    "        \n",
    "        batch_acts.append(act)\n",
    "        ep_rews.append(reward)\n",
    "        \n",
    "        if done:\n",
    "            rendering_epoch = False\n",
    "            #recording everything!\n",
    "            ep_ret, ep_len = sum(ep_rews), len(ep_rews)\n",
    "            \n",
    "            batch_rets.append(ep_ret)\n",
    "            batch_lens.append(ep_len)\n",
    "            \n",
    "            #weights for each logprob(a|s) is R(tau)\n",
    "            batch_weights += [ep_ret] * ep_len\n",
    "            #[ep_ret] - [16], *ep_len -> [16,16,16...16] \n",
    "            \n",
    "            #reset vatiables\n",
    "            obs, done, ep_rews = env.reset(), False, []\n",
    "            \n",
    "            if len(batch_obs)>batch_size:\n",
    "                break\n",
    "    \n",
    "    if np.mean(batch_lens)<200:\n",
    "        batch_loss, _ = sess.run([loss, train_op], {obs_ph: batch_obs,\n",
    "                                             act_ph: batch_acts,\n",
    "                                             weights_ph: batch_weights})\n",
    "    else:\n",
    "        batch_loss = 0\n",
    "    \n",
    "    return batch_loss, batch_rets, batch_lens\n"
   ]
  },
  {
   "cell_type": "code",
   "execution_count": 13,
   "metadata": {},
   "outputs": [
    {
     "name": "stdout",
     "output_type": "stream",
     "text": [
      "#0, batch_loss: 25.929, batch_rets: 30.404, batch_lens: 30.404\n",
      "#1, batch_loss: 34.198, batch_rets: 42.432, batch_lens: 42.432\n",
      "#2, batch_loss: 39.281, batch_rets: 53.925, batch_lens: 53.925\n",
      "#3, batch_loss: 41.793, batch_rets: 58.953, batch_lens: 58.953\n",
      "#4, batch_loss: 47.429, batch_rets: 70.873, batch_lens: 70.873\n",
      "#5, batch_loss: 58.450, batch_rets: 87.190, batch_lens: 87.190\n",
      "#6, batch_loss: 62.918, batch_rets: 97.346, batch_lens: 97.346\n",
      "#7, batch_loss: 73.476, batch_rets: 117.651, batch_lens: 117.651\n",
      "#8, batch_loss: 89.885, batch_rets: 149.118, batch_lens: 149.118\n",
      "#9, batch_loss: 95.327, batch_rets: 174.931, batch_lens: 174.931\n",
      "#10, batch_loss: 93.345, batch_rets: 173.069, batch_lens: 173.069\n",
      "#11, batch_loss: 96.981, batch_rets: 176.966, batch_lens: 176.966\n",
      "#12, batch_loss: 97.021, batch_rets: 185.444, batch_lens: 185.444\n",
      "#13, batch_loss: 90.363, batch_rets: 170.800, batch_lens: 170.800\n",
      "#14, batch_loss: 86.310, batch_rets: 164.806, batch_lens: 164.806\n",
      "#15, batch_loss: 83.989, batch_rets: 156.848, batch_lens: 156.848\n",
      "#16, batch_loss: 70.152, batch_rets: 133.132, batch_lens: 133.132\n",
      "#17, batch_loss: 68.537, batch_rets: 133.500, batch_lens: 133.500\n",
      "#18, batch_loss: 59.637, batch_rets: 111.467, batch_lens: 111.467\n",
      "#19, batch_loss: 56.711, batch_rets: 109.362, batch_lens: 109.362\n",
      "#20, batch_loss: 57.488, batch_rets: 109.674, batch_lens: 109.674\n",
      "#21, batch_loss: 56.868, batch_rets: 107.021, batch_lens: 107.021\n",
      "#22, batch_loss: 59.228, batch_rets: 117.651, batch_lens: 117.651\n",
      "#23, batch_loss: 53.481, batch_rets: 110.413, batch_lens: 110.413\n",
      "#24, batch_loss: 54.358, batch_rets: 110.435, batch_lens: 110.435\n",
      "#25, batch_loss: 58.974, batch_rets: 123.585, batch_lens: 123.585\n",
      "#26, batch_loss: 53.414, batch_rets: 110.913, batch_lens: 110.913\n",
      "#27, batch_loss: 60.138, batch_rets: 122.805, batch_lens: 122.805\n",
      "#28, batch_loss: 43.110, batch_rets: 90.179, batch_lens: 90.179\n",
      "#29, batch_loss: 47.130, batch_rets: 97.115, batch_lens: 97.115\n",
      "#30, batch_loss: 45.711, batch_rets: 93.018, batch_lens: 93.018\n",
      "#31, batch_loss: 42.332, batch_rets: 87.224, batch_lens: 87.224\n",
      "#32, batch_loss: 37.863, batch_rets: 78.781, batch_lens: 78.781\n",
      "#33, batch_loss: 36.198, batch_rets: 80.143, batch_lens: 80.143\n",
      "#34, batch_loss: 39.197, batch_rets: 81.935, batch_lens: 81.935\n",
      "#35, batch_loss: 41.588, batch_rets: 85.780, batch_lens: 85.780\n",
      "#36, batch_loss: 39.755, batch_rets: 82.213, batch_lens: 82.213\n",
      "#37, batch_loss: 43.287, batch_rets: 86.542, batch_lens: 86.542\n",
      "#38, batch_loss: 52.194, batch_rets: 103.388, batch_lens: 103.388\n",
      "#39, batch_loss: 47.604, batch_rets: 100.780, batch_lens: 100.780\n",
      "#40, batch_loss: 55.827, batch_rets: 120.256, batch_lens: 120.256\n",
      "#41, batch_loss: 56.094, batch_rets: 122.024, batch_lens: 122.024\n",
      "#42, batch_loss: 58.626, batch_rets: 126.450, batch_lens: 126.450\n",
      "#43, batch_loss: 61.234, batch_rets: 136.216, batch_lens: 136.216\n",
      "#44, batch_loss: 62.702, batch_rets: 134.737, batch_lens: 134.737\n",
      "#45, batch_loss: 61.002, batch_rets: 132.421, batch_lens: 132.421\n",
      "#46, batch_loss: 62.931, batch_rets: 136.054, batch_lens: 136.054\n",
      "#47, batch_loss: 60.944, batch_rets: 128.974, batch_lens: 128.974\n",
      "#48, batch_loss: 57.923, batch_rets: 125.225, batch_lens: 125.225\n",
      "#49, batch_loss: 62.317, batch_rets: 134.474, batch_lens: 134.474\n",
      "#50, batch_loss: 62.288, batch_rets: 133.000, batch_lens: 133.000\n",
      "#51, batch_loss: 64.121, batch_rets: 135.649, batch_lens: 135.649\n",
      "#52, batch_loss: 67.848, batch_rets: 137.027, batch_lens: 137.027\n",
      "#53, batch_loss: 67.687, batch_rets: 142.943, batch_lens: 142.943\n",
      "#54, batch_loss: 66.815, batch_rets: 136.351, batch_lens: 136.351\n",
      "#55, batch_loss: 69.565, batch_rets: 144.771, batch_lens: 144.771\n",
      "#56, batch_loss: 68.957, batch_rets: 142.167, batch_lens: 142.167\n",
      "#57, batch_loss: 74.029, batch_rets: 149.029, batch_lens: 149.029\n",
      "#58, batch_loss: 74.773, batch_rets: 152.618, batch_lens: 152.618\n",
      "#59, batch_loss: 76.633, batch_rets: 155.515, batch_lens: 155.515\n",
      "#60, batch_loss: 79.674, batch_rets: 158.969, batch_lens: 158.969\n",
      "#61, batch_loss: 77.711, batch_rets: 153.121, batch_lens: 153.121\n",
      "#62, batch_loss: 76.008, batch_rets: 150.529, batch_lens: 150.529\n",
      "#63, batch_loss: 79.996, batch_rets: 155.667, batch_lens: 155.667\n",
      "#64, batch_loss: 78.016, batch_rets: 145.286, batch_lens: 145.286\n",
      "#65, batch_loss: 69.617, batch_rets: 129.692, batch_lens: 129.692\n",
      "#66, batch_loss: 71.955, batch_rets: 138.189, batch_lens: 138.189\n",
      "#67, batch_loss: 66.876, batch_rets: 123.452, batch_lens: 123.452\n",
      "#68, batch_loss: 63.330, batch_rets: 118.442, batch_lens: 118.442\n",
      "#69, batch_loss: 58.254, batch_rets: 108.957, batch_lens: 108.957\n",
      "#70, batch_loss: 59.098, batch_rets: 102.580, batch_lens: 102.580\n",
      "#71, batch_loss: 57.837, batch_rets: 105.312, batch_lens: 105.312\n",
      "#72, batch_loss: 61.360, batch_rets: 109.574, batch_lens: 109.574\n",
      "#73, batch_loss: 59.116, batch_rets: 102.122, batch_lens: 102.122\n",
      "#74, batch_loss: 59.013, batch_rets: 106.830, batch_lens: 106.830\n",
      "#75, batch_loss: 65.132, batch_rets: 117.721, batch_lens: 117.721\n",
      "#76, batch_loss: 68.076, batch_rets: 124.463, batch_lens: 124.463\n",
      "#77, batch_loss: 79.955, batch_rets: 148.412, batch_lens: 148.412\n",
      "#78, batch_loss: 83.326, batch_rets: 155.121, batch_lens: 155.121\n",
      "#79, batch_loss: 84.030, batch_rets: 158.656, batch_lens: 158.656\n",
      "#80, batch_loss: 77.361, batch_rets: 149.029, batch_lens: 149.029\n",
      "#81, batch_loss: 80.687, batch_rets: 155.212, batch_lens: 155.212\n",
      "#82, batch_loss: 76.540, batch_rets: 145.314, batch_lens: 145.314\n",
      "#83, batch_loss: 67.118, batch_rets: 126.525, batch_lens: 126.525\n",
      "#84, batch_loss: 68.628, batch_rets: 130.231, batch_lens: 130.231\n",
      "#85, batch_loss: 69.879, batch_rets: 129.513, batch_lens: 129.513\n",
      "#86, batch_loss: 68.400, batch_rets: 129.590, batch_lens: 129.590\n",
      "#87, batch_loss: 70.083, batch_rets: 136.730, batch_lens: 136.730\n",
      "#88, batch_loss: 71.063, batch_rets: 134.474, batch_lens: 134.474\n",
      "#89, batch_loss: 72.687, batch_rets: 141.333, batch_lens: 141.333\n",
      "#90, batch_loss: 77.086, batch_rets: 152.676, batch_lens: 152.676\n",
      "#91, batch_loss: 85.867, batch_rets: 165.516, batch_lens: 165.516\n",
      "#92, batch_loss: 83.936, batch_rets: 168.700, batch_lens: 168.700\n",
      "#93, batch_loss: 92.996, batch_rets: 186.704, batch_lens: 186.704\n",
      "#94, batch_loss: 94.491, batch_rets: 188.519, batch_lens: 188.519\n",
      "#95, batch_loss: 98.880, batch_rets: 194.231, batch_lens: 194.231\n",
      "#96, batch_loss: 98.958, batch_rets: 199.885, batch_lens: 199.885\n",
      "#97, batch_loss: 95.823, batch_rets: 188.556, batch_lens: 188.556\n",
      "#98, batch_loss: 0.000, batch_rets: 200.000, batch_lens: 200.000\n"
     ]
    }
   ],
   "source": [
    "for i in range(500):\n",
    "    batch_loss, batch_rets, batch_lens = train_one_epoch()\n",
    "    print(\"#%i, batch_loss: %.3f, batch_rets: %.3f, batch_lens: %.3f\" \\\n",
    "          %(i, batch_loss, np.mean(batch_rets), np.mean(batch_lens)))\n",
    "    if batch_loss == 0:\n",
    "        break\n"
   ]
  },
  {
   "cell_type": "code",
   "execution_count": 14,
   "metadata": {},
   "outputs": [],
   "source": [
    "def play_episode():\n",
    "    \n",
    "    rewards = 0\n",
    "    obs = env.reset()\n",
    "    while True:\n",
    "        env.render()\n",
    "        act = sess.run(action, {obs_ph: obs.reshape(1,-1)})[0]\n",
    "        obs, reward, is_done, _ = env.step(act)\n",
    "        rewards += reward\n",
    "        #if is_done or rewards >200:\n",
    "            #break\n",
    "    return rewards    "
   ]
  },
  {
   "cell_type": "code",
   "execution_count": 17,
   "metadata": {
    "scrolled": true
   },
   "outputs": [
    {
     "ename": "KeyboardInterrupt",
     "evalue": "",
     "output_type": "error",
     "traceback": [
      "\u001b[0;31m---------------------------------------------------------------------------\u001b[0m",
      "\u001b[0;31mKeyboardInterrupt\u001b[0m                         Traceback (most recent call last)",
      "\u001b[0;32m<ipython-input-17-c35972448c72>\u001b[0m in \u001b[0;36m<module>\u001b[0;34m\u001b[0m\n\u001b[1;32m      1\u001b[0m \u001b[0;32mfor\u001b[0m \u001b[0mi\u001b[0m \u001b[0;32min\u001b[0m \u001b[0mrange\u001b[0m\u001b[0;34m(\u001b[0m\u001b[0;36m50\u001b[0m\u001b[0;34m)\u001b[0m\u001b[0;34m:\u001b[0m\u001b[0;34m\u001b[0m\u001b[0;34m\u001b[0m\u001b[0m\n\u001b[0;32m----> 2\u001b[0;31m     \u001b[0mprint\u001b[0m\u001b[0;34m(\u001b[0m\u001b[0mplay_episode\u001b[0m\u001b[0;34m(\u001b[0m\u001b[0;34m)\u001b[0m\u001b[0;34m)\u001b[0m\u001b[0;34m\u001b[0m\u001b[0;34m\u001b[0m\u001b[0m\n\u001b[0m",
      "\u001b[0;32m<ipython-input-14-2c7f2fa4cedf>\u001b[0m in \u001b[0;36mplay_episode\u001b[0;34m()\u001b[0m\n\u001b[1;32m      4\u001b[0m     \u001b[0mobs\u001b[0m \u001b[0;34m=\u001b[0m \u001b[0menv\u001b[0m\u001b[0;34m.\u001b[0m\u001b[0mreset\u001b[0m\u001b[0;34m(\u001b[0m\u001b[0;34m)\u001b[0m\u001b[0;34m\u001b[0m\u001b[0;34m\u001b[0m\u001b[0m\n\u001b[1;32m      5\u001b[0m     \u001b[0;32mwhile\u001b[0m \u001b[0;32mTrue\u001b[0m\u001b[0;34m:\u001b[0m\u001b[0;34m\u001b[0m\u001b[0;34m\u001b[0m\u001b[0m\n\u001b[0;32m----> 6\u001b[0;31m         \u001b[0menv\u001b[0m\u001b[0;34m.\u001b[0m\u001b[0mrender\u001b[0m\u001b[0;34m(\u001b[0m\u001b[0;34m)\u001b[0m\u001b[0;34m\u001b[0m\u001b[0;34m\u001b[0m\u001b[0m\n\u001b[0m\u001b[1;32m      7\u001b[0m         \u001b[0mact\u001b[0m \u001b[0;34m=\u001b[0m \u001b[0msess\u001b[0m\u001b[0;34m.\u001b[0m\u001b[0mrun\u001b[0m\u001b[0;34m(\u001b[0m\u001b[0maction\u001b[0m\u001b[0;34m,\u001b[0m \u001b[0;34m{\u001b[0m\u001b[0mobs_ph\u001b[0m\u001b[0;34m:\u001b[0m \u001b[0mobs\u001b[0m\u001b[0;34m.\u001b[0m\u001b[0mreshape\u001b[0m\u001b[0;34m(\u001b[0m\u001b[0;36m1\u001b[0m\u001b[0;34m,\u001b[0m\u001b[0;34m-\u001b[0m\u001b[0;36m1\u001b[0m\u001b[0;34m)\u001b[0m\u001b[0;34m}\u001b[0m\u001b[0;34m)\u001b[0m\u001b[0;34m[\u001b[0m\u001b[0;36m0\u001b[0m\u001b[0;34m]\u001b[0m\u001b[0;34m\u001b[0m\u001b[0;34m\u001b[0m\u001b[0m\n\u001b[1;32m      8\u001b[0m         \u001b[0mobs\u001b[0m\u001b[0;34m,\u001b[0m \u001b[0mreward\u001b[0m\u001b[0;34m,\u001b[0m \u001b[0mis_done\u001b[0m\u001b[0;34m,\u001b[0m \u001b[0m_\u001b[0m \u001b[0;34m=\u001b[0m \u001b[0menv\u001b[0m\u001b[0;34m.\u001b[0m\u001b[0mstep\u001b[0m\u001b[0;34m(\u001b[0m\u001b[0mact\u001b[0m\u001b[0;34m)\u001b[0m\u001b[0;34m\u001b[0m\u001b[0;34m\u001b[0m\u001b[0m\n",
      "\u001b[0;32m~/anaconda3/lib/python3.7/site-packages/gym/core.py\u001b[0m in \u001b[0;36mrender\u001b[0;34m(self, mode, **kwargs)\u001b[0m\n\u001b[1;32m    231\u001b[0m \u001b[0;34m\u001b[0m\u001b[0m\n\u001b[1;32m    232\u001b[0m     \u001b[0;32mdef\u001b[0m \u001b[0mrender\u001b[0m\u001b[0;34m(\u001b[0m\u001b[0mself\u001b[0m\u001b[0;34m,\u001b[0m \u001b[0mmode\u001b[0m\u001b[0;34m=\u001b[0m\u001b[0;34m'human'\u001b[0m\u001b[0;34m,\u001b[0m \u001b[0;34m**\u001b[0m\u001b[0mkwargs\u001b[0m\u001b[0;34m)\u001b[0m\u001b[0;34m:\u001b[0m\u001b[0;34m\u001b[0m\u001b[0;34m\u001b[0m\u001b[0m\n\u001b[0;32m--> 233\u001b[0;31m         \u001b[0;32mreturn\u001b[0m \u001b[0mself\u001b[0m\u001b[0;34m.\u001b[0m\u001b[0menv\u001b[0m\u001b[0;34m.\u001b[0m\u001b[0mrender\u001b[0m\u001b[0;34m(\u001b[0m\u001b[0mmode\u001b[0m\u001b[0;34m,\u001b[0m \u001b[0;34m**\u001b[0m\u001b[0mkwargs\u001b[0m\u001b[0;34m)\u001b[0m\u001b[0;34m\u001b[0m\u001b[0;34m\u001b[0m\u001b[0m\n\u001b[0m\u001b[1;32m    234\u001b[0m \u001b[0;34m\u001b[0m\u001b[0m\n\u001b[1;32m    235\u001b[0m     \u001b[0;32mdef\u001b[0m \u001b[0mclose\u001b[0m\u001b[0;34m(\u001b[0m\u001b[0mself\u001b[0m\u001b[0;34m)\u001b[0m\u001b[0;34m:\u001b[0m\u001b[0;34m\u001b[0m\u001b[0;34m\u001b[0m\u001b[0m\n",
      "\u001b[0;32m~/anaconda3/lib/python3.7/site-packages/gym/envs/classic_control/cartpole.py\u001b[0m in \u001b[0;36mrender\u001b[0;34m(self, mode)\u001b[0m\n\u001b[1;32m    186\u001b[0m         \u001b[0mself\u001b[0m\u001b[0;34m.\u001b[0m\u001b[0mpoletrans\u001b[0m\u001b[0;34m.\u001b[0m\u001b[0mset_rotation\u001b[0m\u001b[0;34m(\u001b[0m\u001b[0;34m-\u001b[0m\u001b[0mx\u001b[0m\u001b[0;34m[\u001b[0m\u001b[0;36m2\u001b[0m\u001b[0;34m]\u001b[0m\u001b[0;34m)\u001b[0m\u001b[0;34m\u001b[0m\u001b[0;34m\u001b[0m\u001b[0m\n\u001b[1;32m    187\u001b[0m \u001b[0;34m\u001b[0m\u001b[0m\n\u001b[0;32m--> 188\u001b[0;31m         \u001b[0;32mreturn\u001b[0m \u001b[0mself\u001b[0m\u001b[0;34m.\u001b[0m\u001b[0mviewer\u001b[0m\u001b[0;34m.\u001b[0m\u001b[0mrender\u001b[0m\u001b[0;34m(\u001b[0m\u001b[0mreturn_rgb_array\u001b[0m \u001b[0;34m=\u001b[0m \u001b[0mmode\u001b[0m\u001b[0;34m==\u001b[0m\u001b[0;34m'rgb_array'\u001b[0m\u001b[0;34m)\u001b[0m\u001b[0;34m\u001b[0m\u001b[0;34m\u001b[0m\u001b[0m\n\u001b[0m\u001b[1;32m    189\u001b[0m \u001b[0;34m\u001b[0m\u001b[0m\n\u001b[1;32m    190\u001b[0m     \u001b[0;32mdef\u001b[0m \u001b[0mclose\u001b[0m\u001b[0;34m(\u001b[0m\u001b[0mself\u001b[0m\u001b[0;34m)\u001b[0m\u001b[0;34m:\u001b[0m\u001b[0;34m\u001b[0m\u001b[0;34m\u001b[0m\u001b[0m\n",
      "\u001b[0;32m~/anaconda3/lib/python3.7/site-packages/gym/envs/classic_control/rendering.py\u001b[0m in \u001b[0;36mrender\u001b[0;34m(self, return_rgb_array)\u001b[0m\n\u001b[1;32m     90\u001b[0m     \u001b[0;32mdef\u001b[0m \u001b[0mrender\u001b[0m\u001b[0;34m(\u001b[0m\u001b[0mself\u001b[0m\u001b[0;34m,\u001b[0m \u001b[0mreturn_rgb_array\u001b[0m\u001b[0;34m=\u001b[0m\u001b[0;32mFalse\u001b[0m\u001b[0;34m)\u001b[0m\u001b[0;34m:\u001b[0m\u001b[0;34m\u001b[0m\u001b[0;34m\u001b[0m\u001b[0m\n\u001b[1;32m     91\u001b[0m         \u001b[0mglClearColor\u001b[0m\u001b[0;34m(\u001b[0m\u001b[0;36m1\u001b[0m\u001b[0;34m,\u001b[0m\u001b[0;36m1\u001b[0m\u001b[0;34m,\u001b[0m\u001b[0;36m1\u001b[0m\u001b[0;34m,\u001b[0m\u001b[0;36m1\u001b[0m\u001b[0;34m)\u001b[0m\u001b[0;34m\u001b[0m\u001b[0;34m\u001b[0m\u001b[0m\n\u001b[0;32m---> 92\u001b[0;31m         \u001b[0mself\u001b[0m\u001b[0;34m.\u001b[0m\u001b[0mwindow\u001b[0m\u001b[0;34m.\u001b[0m\u001b[0mclear\u001b[0m\u001b[0;34m(\u001b[0m\u001b[0;34m)\u001b[0m\u001b[0;34m\u001b[0m\u001b[0;34m\u001b[0m\u001b[0m\n\u001b[0m\u001b[1;32m     93\u001b[0m         \u001b[0mself\u001b[0m\u001b[0;34m.\u001b[0m\u001b[0mwindow\u001b[0m\u001b[0;34m.\u001b[0m\u001b[0mswitch_to\u001b[0m\u001b[0;34m(\u001b[0m\u001b[0;34m)\u001b[0m\u001b[0;34m\u001b[0m\u001b[0;34m\u001b[0m\u001b[0m\n\u001b[1;32m     94\u001b[0m         \u001b[0mself\u001b[0m\u001b[0;34m.\u001b[0m\u001b[0mwindow\u001b[0m\u001b[0;34m.\u001b[0m\u001b[0mdispatch_events\u001b[0m\u001b[0;34m(\u001b[0m\u001b[0;34m)\u001b[0m\u001b[0;34m\u001b[0m\u001b[0;34m\u001b[0m\u001b[0m\n",
      "\u001b[0;32m~/anaconda3/lib/python3.7/site-packages/pyglet/window/__init__.py\u001b[0m in \u001b[0;36mclear\u001b[0;34m(self)\u001b[0m\n\u001b[1;32m   1226\u001b[0m         \u001b[0mbuffer\u001b[0m\u001b[0;34m.\u001b[0m  \u001b[0mThe\u001b[0m \u001b[0mwindow\u001b[0m \u001b[0mmust\u001b[0m \u001b[0mbe\u001b[0m \u001b[0mthe\u001b[0m \u001b[0mactive\u001b[0m \u001b[0mcontext\u001b[0m \u001b[0;34m(\u001b[0m\u001b[0msee\u001b[0m\u001b[0;31m \u001b[0m\u001b[0;31m`\u001b[0m\u001b[0mswitch_to\u001b[0m\u001b[0;31m`\u001b[0m\u001b[0;34m)\u001b[0m\u001b[0;34m.\u001b[0m\u001b[0;34m\u001b[0m\u001b[0;34m\u001b[0m\u001b[0m\n\u001b[1;32m   1227\u001b[0m         \"\"\"\n\u001b[0;32m-> 1228\u001b[0;31m         \u001b[0mgl\u001b[0m\u001b[0;34m.\u001b[0m\u001b[0mglClear\u001b[0m\u001b[0;34m(\u001b[0m\u001b[0mgl\u001b[0m\u001b[0;34m.\u001b[0m\u001b[0mGL_COLOR_BUFFER_BIT\u001b[0m \u001b[0;34m|\u001b[0m \u001b[0mgl\u001b[0m\u001b[0;34m.\u001b[0m\u001b[0mGL_DEPTH_BUFFER_BIT\u001b[0m\u001b[0;34m)\u001b[0m\u001b[0;34m\u001b[0m\u001b[0;34m\u001b[0m\u001b[0m\n\u001b[0m\u001b[1;32m   1229\u001b[0m \u001b[0;34m\u001b[0m\u001b[0m\n\u001b[1;32m   1230\u001b[0m     \u001b[0;32mdef\u001b[0m \u001b[0mdispatch_event\u001b[0m\u001b[0;34m(\u001b[0m\u001b[0mself\u001b[0m\u001b[0;34m,\u001b[0m \u001b[0;34m*\u001b[0m\u001b[0margs\u001b[0m\u001b[0;34m)\u001b[0m\u001b[0;34m:\u001b[0m\u001b[0;34m\u001b[0m\u001b[0;34m\u001b[0m\u001b[0m\n",
      "\u001b[0;32m~/anaconda3/lib/python3.7/site-packages/pyglet/gl/lib.py\u001b[0m in \u001b[0;36merrcheck\u001b[0;34m(result, func, arguments)\u001b[0m\n\u001b[1;32m     83\u001b[0m     \u001b[0;32mpass\u001b[0m\u001b[0;34m\u001b[0m\u001b[0;34m\u001b[0m\u001b[0m\n\u001b[1;32m     84\u001b[0m \u001b[0;34m\u001b[0m\u001b[0m\n\u001b[0;32m---> 85\u001b[0;31m \u001b[0;32mdef\u001b[0m \u001b[0merrcheck\u001b[0m\u001b[0;34m(\u001b[0m\u001b[0mresult\u001b[0m\u001b[0;34m,\u001b[0m \u001b[0mfunc\u001b[0m\u001b[0;34m,\u001b[0m \u001b[0marguments\u001b[0m\u001b[0;34m)\u001b[0m\u001b[0;34m:\u001b[0m\u001b[0;34m\u001b[0m\u001b[0;34m\u001b[0m\u001b[0m\n\u001b[0m\u001b[1;32m     86\u001b[0m     \u001b[0;32mif\u001b[0m \u001b[0m_debug_gl_trace\u001b[0m\u001b[0;34m:\u001b[0m\u001b[0;34m\u001b[0m\u001b[0;34m\u001b[0m\u001b[0m\n\u001b[1;32m     87\u001b[0m         \u001b[0;32mtry\u001b[0m\u001b[0;34m:\u001b[0m\u001b[0;34m\u001b[0m\u001b[0;34m\u001b[0m\u001b[0m\n",
      "\u001b[0;31mKeyboardInterrupt\u001b[0m: "
     ]
    }
   ],
   "source": [
    "for i in range(50):\n",
    "    print(play_episode())"
   ]
  },
  {
   "cell_type": "markdown",
   "metadata": {},
   "source": [
    "t = 2"
   ]
  },
  {
   "cell_type": "markdown",
   "metadata": {},
   "source": [
    "\n",
    "x"
   ]
  },
  {
   "cell_type": "markdown",
   "metadata": {},
   "source": [
    "\n",
    "y"
   ]
  },
  {
   "cell_type": "markdown",
   "metadata": {},
   "source": [
    "t=2\n",
    "while t!=100000000000000:\n",
    "    x = t**(1/(t-1))\n",
    "    y = t**(t/(t-1))\n",
    "    if x.is_integer() and y.is_integer():\n",
    "        print(\"x: {}^(1/{})   y: {}^{}/{}\".format(t, t-1, t, t,t-1))\n",
    "        print(\"t = {} x = {} y = {}\".format(t, x, y))\n",
    "    t+=1"
   ]
  },
  {
   "cell_type": "markdown",
   "metadata": {},
   "source": [
    "4.0.is_integer()"
   ]
  },
  {
   "cell_type": "markdown",
   "metadata": {},
   "source": [
    "t"
   ]
  },
  {
   "cell_type": "code",
   "execution_count": null,
   "metadata": {},
   "outputs": [],
   "source": [
    "env.close()"
   ]
  },
  {
   "cell_type": "code",
   "execution_count": null,
   "metadata": {},
   "outputs": [],
   "source": []
  },
  {
   "cell_type": "code",
   "execution_count": null,
   "metadata": {},
   "outputs": [],
   "source": []
  },
  {
   "cell_type": "code",
   "execution_count": null,
   "metadata": {},
   "outputs": [],
   "source": []
  }
 ],
 "metadata": {
  "kernelspec": {
   "display_name": "Python 3",
   "language": "python",
   "name": "python3"
  },
  "language_info": {
   "codemirror_mode": {
    "name": "ipython",
    "version": 3
   },
   "file_extension": ".py",
   "mimetype": "text/x-python",
   "name": "python",
   "nbconvert_exporter": "python",
   "pygments_lexer": "ipython3",
   "version": "3.7.3"
  }
 },
 "nbformat": 4,
 "nbformat_minor": 2
}
